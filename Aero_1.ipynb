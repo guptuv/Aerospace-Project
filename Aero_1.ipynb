{
  "nbformat": 4,
  "nbformat_minor": 0,
  "metadata": {
    "colab": {
      "provenance": [],
      "authorship_tag": "ABX9TyOe5Abh7vpf3Wk1MYwAgrew",
      "include_colab_link": true
    },
    "kernelspec": {
      "name": "python3",
      "display_name": "Python 3"
    },
    "language_info": {
      "name": "python"
    }
  },
  "cells": [
    {
      "cell_type": "markdown",
      "metadata": {
        "id": "view-in-github",
        "colab_type": "text"
      },
      "source": [
        "<a href=\"https://colab.research.google.com/github/guptuv/Aerospace-Project/blob/main/Aero_1.ipynb\" target=\"_parent\"><img src=\"https://colab.research.google.com/assets/colab-badge.svg\" alt=\"Open In Colab\"/></a>"
      ]
    },
    {
      "cell_type": "markdown",
      "source": [
        "**Syntax**"
      ],
      "metadata": {
        "id": "DYUhKn9LVE6d"
      }
    },
    {
      "cell_type": "code",
      "execution_count": 38,
      "metadata": {
        "colab": {
          "base_uri": "https://localhost:8080/"
        },
        "id": "p7eAFG1NVCVC",
        "outputId": "e0c8c973-9170-4e8c-854d-7a588b76be17"
      },
      "outputs": [
        {
          "output_type": "stream",
          "name": "stdout",
          "text": [
            "911\n"
          ]
        }
      ],
      "source": [
        "random_number=911\n",
        "print(random_number)"
      ]
    },
    {
      "cell_type": "code",
      "source": [
        "astronaut_name=\"Yuvraj Gupta\"\n",
        "astronaut_age=19\n",
        "fuel=41.5\n",
        "is_engine_running=True\n",
        "astronauts=[\"UV\",\"Puja\",\"Priya\",\"Revant\",'Chiku',\"Ritwik\"]\n",
        "astronauts_age={'UV':19,'Puja':32,'Priya':29,'Revant':11,\"Chiku\":5,'Ritwik':1}\n",
        "print(astronaut_name)\n",
        "print(astronaut_age)\n",
        "print(fuel)\n",
        "print(is_engine_running)\n",
        "print(astronauts)\n",
        "print(astronauts_age)\n",
        "print(astronauts_age[\"Ritwik\"])\n",
        "print(astronauts_age.keys())\n",
        "print(astronauts_age.values())"
      ],
      "metadata": {
        "colab": {
          "base_uri": "https://localhost:8080/"
        },
        "id": "_fVjX0idWFju",
        "outputId": "02883e13-abd7-474b-fd72-ab2090497f84"
      },
      "execution_count": 39,
      "outputs": [
        {
          "output_type": "stream",
          "name": "stdout",
          "text": [
            "Yuvraj Gupta\n",
            "19\n",
            "41.5\n",
            "True\n",
            "['UV', 'Puja', 'Priya', 'Revant', 'Chiku', 'Ritwik']\n",
            "{'UV': 19, 'Puja': 32, 'Priya': 29, 'Revant': 11, 'Chiku': 5, 'Ritwik': 1}\n",
            "1\n",
            "dict_keys(['UV', 'Puja', 'Priya', 'Revant', 'Chiku', 'Ritwik'])\n",
            "dict_values([19, 32, 29, 11, 5, 1])\n"
          ]
        }
      ]
    },
    {
      "cell_type": "code",
      "source": [
        "travel_time = 10  # hours\n",
        "speed = 5000      # kilometers per hour\n",
        "fuel_efficiency = 1000  # kilometers per liter\n",
        "first_name = \"Sally\"\n",
        "last_name = \"Ride\"\n",
        "distance=speed*travel_time\n",
        "print(distance)\n",
        "fuel_used=distance/fuel_efficiency\n",
        "print(fuel_used)\n",
        "time_destination=distance/speed\n",
        "print(time_destination)\n",
        "full_name=first_name+\" \"+last_name\n",
        "print(full_name)"
      ],
      "metadata": {
        "colab": {
          "base_uri": "https://localhost:8080/"
        },
        "id": "mYnWOVNfauwr",
        "outputId": "ebc5cc6d-34b4-44ee-940a-00a2c3f82dfc"
      },
      "execution_count": 40,
      "outputs": [
        {
          "output_type": "stream",
          "name": "stdout",
          "text": [
            "50000\n",
            "50.0\n",
            "10.0\n",
            "Sally Ride\n"
          ]
        }
      ]
    },
    {
      "cell_type": "code",
      "source": [
        "num_float=3.89\n",
        "num_int=int(num_float)\n",
        "print(num_int)\n",
        "print(type(str(num_float)))"
      ],
      "metadata": {
        "colab": {
          "base_uri": "https://localhost:8080/"
        },
        "id": "B3kbx-VoYiG_",
        "outputId": "e2c16d96-cd2d-412c-bc2b-db96f3e827f9"
      },
      "execution_count": 41,
      "outputs": [
        {
          "output_type": "stream",
          "name": "stdout",
          "text": [
            "3\n",
            "<class 'str'>\n"
          ]
        }
      ]
    },
    {
      "cell_type": "code",
      "source": [
        "fuel_remaining = 33.42\n",
        "oxygen_levels = 21\n",
        "print(int(fuel_remaining))\n",
        "print(float(oxygen_levels))"
      ],
      "metadata": {
        "colab": {
          "base_uri": "https://localhost:8080/"
        },
        "id": "G_OUX5HhZEgA",
        "outputId": "60b496e4-a4fb-4ddb-8507-05005a44a497"
      },
      "execution_count": 42,
      "outputs": [
        {
          "output_type": "stream",
          "name": "stdout",
          "text": [
            "33\n",
            "21.0\n"
          ]
        }
      ]
    },
    {
      "cell_type": "code",
      "source": [
        "values = [1, 2, 3, 4, 5]\n",
        "del(values[-1])\n",
        "values[1]=8\n",
        "values=values[::-1]\n",
        "values.append(5)\n",
        "values.append(9)\n",
        "print(values)"
      ],
      "metadata": {
        "colab": {
          "base_uri": "https://localhost:8080/"
        },
        "id": "AUbfmyDYTZ2x",
        "outputId": "9bb6bb40-0f4f-4a67-e32a-1fbf2c7ace03"
      },
      "execution_count": 43,
      "outputs": [
        {
          "output_type": "stream",
          "name": "stdout",
          "text": [
            "[4, 3, 8, 1, 5, 9]\n"
          ]
        }
      ]
    },
    {
      "cell_type": "markdown",
      "source": [
        "# **Rocket Engine Performance Calculator**"
      ],
      "metadata": {
        "id": "9kco7No1Vn_1"
      }
    },
    {
      "cell_type": "code",
      "source": [
        "thrust=float(input(\"Enter  Thrust\"))\n",
        "mfr=float(input(\"Enter Mass flow rate\"))\n",
        "sI=thrust/(mfr*9.81)#specific Inpulse\n",
        "ev=sI/1000#exhaust velocity\n",
        "print(\"Exhaust Velocity=\",ev)\n"
      ],
      "metadata": {
        "colab": {
          "base_uri": "https://localhost:8080/"
        },
        "id": "8lOxs_Y2U6t6",
        "outputId": "abcde0b8-d889-4892-bcce-1d6d0cd86d0a"
      },
      "execution_count": 44,
      "outputs": [
        {
          "output_type": "stream",
          "name": "stdout",
          "text": [
            "Enter  Thrust60000\n",
            "Enter Mass flow rate56\n",
            "Exhaust Velocity= 0.109217999126256\n"
          ]
        }
      ]
    },
    {
      "cell_type": "code",
      "source": [
        "celestial_objects = {\n",
        "    \"Sirius\": 25,  # Sirius is one of the brightest stars in the night sky\n",
        "    \"Andromeda Galaxy\": 1000000,  # Andromeda Galaxy has a very high luminosity\n",
        "    \"Jupiter\": 0.00006,  # Jupiter reflects sunlight but has low intrinsic luminosity\n",
        "    \"Pleiades\": 100,  # The Pleiades star cluster is moderately luminous\n",
        "    \"Orion Nebula\": 10000  # The Orion Nebula is a bright emission nebula\n",
        "}\n",
        "lum=[]\n",
        "for obj in celestial_objects.items():\n",
        "  print(obj[0])\n",
        "  lum.append(obj[1])\n",
        "print(lum)\n",
        "while lum:\n",
        "  x=lum.pop()\n",
        "  if x<200:\n",
        "    print(x)"
      ],
      "metadata": {
        "colab": {
          "base_uri": "https://localhost:8080/"
        },
        "id": "uFIOuFn_0kue",
        "outputId": "2ffa4554-c722-4963-f210-f1d38c398de1"
      },
      "execution_count": 45,
      "outputs": [
        {
          "output_type": "stream",
          "name": "stdout",
          "text": [
            "Sirius\n",
            "Andromeda Galaxy\n",
            "Jupiter\n",
            "Pleiades\n",
            "Orion Nebula\n",
            "[25, 1000000, 6e-05, 100, 10000]\n",
            "100\n",
            "6e-05\n",
            "25\n"
          ]
        }
      ]
    },
    {
      "cell_type": "markdown",
      "source": [
        "# **Mission Control Flow**"
      ],
      "metadata": {
        "id": "5NLs9L4j4dqb"
      }
    },
    {
      "cell_type": "code",
      "source": [
        "mission_duration = 10  # Duration of the mission in hours\n",
        "fuel_level = 1000  # Initial fuel level in gallons\n",
        "distance_to_destination = 500000  # Distance to the destination in kilometers\n",
        "mission_time = 0  # Initialize mission time\n",
        "fuel_consumption_rate = 50  # gallons per hour\n",
        "distance_traveled_per_hour = 50000  # kilometers per hour\n",
        "\n",
        "while(mission_time<mission_duration):\n",
        "  distance_to_destination=distance_to_destination-distance_traveled_per_hour\n",
        "  fuel_level=fuel_level-fuel_consumption_rate\n",
        "  print(\"Distance to destination=\",distance_to_destination, \"km\")\n",
        "  print(\"Fuel level=\",fuel_level,\" gallons\")\n",
        "  mission_time=mission_time+1\n",
        "  print(\"Mission time=\",mission_time,\" hrs\")\n"
      ],
      "metadata": {
        "colab": {
          "base_uri": "https://localhost:8080/"
        },
        "id": "tjOviRDS4hU0",
        "outputId": "7a057a21-6269-48a0-f3ba-221591d56774"
      },
      "execution_count": 46,
      "outputs": [
        {
          "output_type": "stream",
          "name": "stdout",
          "text": [
            "Distance to destination= 450000 km\n",
            "Fuel level= 950  gallons\n",
            "Mission time= 1  hrs\n",
            "Distance to destination= 400000 km\n",
            "Fuel level= 900  gallons\n",
            "Mission time= 2  hrs\n",
            "Distance to destination= 350000 km\n",
            "Fuel level= 850  gallons\n",
            "Mission time= 3  hrs\n",
            "Distance to destination= 300000 km\n",
            "Fuel level= 800  gallons\n",
            "Mission time= 4  hrs\n",
            "Distance to destination= 250000 km\n",
            "Fuel level= 750  gallons\n",
            "Mission time= 5  hrs\n",
            "Distance to destination= 200000 km\n",
            "Fuel level= 700  gallons\n",
            "Mission time= 6  hrs\n",
            "Distance to destination= 150000 km\n",
            "Fuel level= 650  gallons\n",
            "Mission time= 7  hrs\n",
            "Distance to destination= 100000 km\n",
            "Fuel level= 600  gallons\n",
            "Mission time= 8  hrs\n",
            "Distance to destination= 50000 km\n",
            "Fuel level= 550  gallons\n",
            "Mission time= 9  hrs\n",
            "Distance to destination= 0 km\n",
            "Fuel level= 500  gallons\n",
            "Mission time= 10  hrs\n"
          ]
        }
      ]
    },
    {
      "cell_type": "code",
      "source": [
        "def add(a,b):\n",
        "  return(a+b)\n",
        "def sub(a,b):\n",
        "  return(a-b)\n",
        "def mul(a,b):\n",
        "  return(a*b)\n",
        "def div(a,b):\n",
        "  return(a/b)\n",
        "print(add(10,20))\n",
        "print(sub(10,20))\n",
        "print(mul(10,20))\n",
        "print(div(10,20))"
      ],
      "metadata": {
        "colab": {
          "base_uri": "https://localhost:8080/"
        },
        "id": "a2d5Haa8DUfV",
        "outputId": "047e82c7-edf2-4acc-e7f7-994b72fd49d6"
      },
      "execution_count": 47,
      "outputs": [
        {
          "output_type": "stream",
          "name": "stdout",
          "text": [
            "30\n",
            "-10\n",
            "200\n",
            "0.5\n"
          ]
        }
      ]
    },
    {
      "cell_type": "code",
      "source": [
        "import math\n",
        "def pow(a,b):\n",
        "  return(math.pow(a,b))\n",
        "print(pow(2,3))\n",
        "def ceil(a):\n",
        "  return(math.ceil(a))\n",
        "def floor(a):\n",
        "  return(math.floor(a))\n",
        "print(ceil(2.3))\n",
        "print(floor(2.3))\n",
        "def factorial(a):\n",
        "  return(math.factorial(a))\n",
        "print(factorial(6))"
      ],
      "metadata": {
        "colab": {
          "base_uri": "https://localhost:8080/"
        },
        "id": "UzOKn3BAEHl8",
        "outputId": "30c533a4-5eab-4466-908c-1682d5a52711"
      },
      "execution_count": 48,
      "outputs": [
        {
          "output_type": "stream",
          "name": "stdout",
          "text": [
            "8.0\n",
            "3\n",
            "2\n",
            "720\n"
          ]
        }
      ]
    },
    {
      "cell_type": "code",
      "source": [
        "file = open(\"sample.txt\", \"w\")\n",
        "file.write('BLAST')\n",
        "file.write('OFF')\n",
        "file.close()"
      ],
      "metadata": {
        "id": "5I_cp0EtFhTp"
      },
      "execution_count": 49,
      "outputs": []
    },
    {
      "cell_type": "code",
      "source": [
        "print(\"fjbnfdjbn\",\"jgnrjnvor\")"
      ],
      "metadata": {
        "colab": {
          "base_uri": "https://localhost:8080/"
        },
        "id": "vo6KWYnDKbzn",
        "outputId": "e2cdcf06-f591-41e9-9e5e-a82eea27aad7"
      },
      "execution_count": 50,
      "outputs": [
        {
          "output_type": "stream",
          "name": "stdout",
          "text": [
            "fjbnfdjbn jgnrjnvor\n"
          ]
        }
      ]
    },
    {
      "cell_type": "code",
      "source": [
        "file=open(\"orbital_details\",\"w\")\n",
        "planet_names = [\"Mercury\", \"Venus\", \"Earth\", \"Mars\", \"Jupiter\", \"Saturn\", \"Uranus\", \"Neptune\"]\n",
        "\n",
        "# Orbital periods (in Earth years)\n",
        "orbital_periods = [0.24, 0.62, 1.0, 1.88, 11.86, 29.46, 84.01, 164.8]\n",
        "\n",
        "# Axial tilts (in degrees)\n",
        "axial_tilts = [0.03, 177.36, 23.44, 25.19, 3.13, 26.73, 82.23, 28.32]\n",
        "for i in range(len(planet_names)):\n",
        "  file.write(planet_names[i]+\" \")#file.write() takes exactly one argument (2 given)\n",
        "  file.write(str(orbital_periods[i])+ \" \")#argument must be str, not float\n",
        "  file.write(str(axial_tilts[i])+\"\\n\")\n",
        "file.close()"
      ],
      "metadata": {
        "id": "AVNN35__JS-6"
      },
      "execution_count": 51,
      "outputs": []
    },
    {
      "cell_type": "code",
      "source": [
        "import numpy as np\n",
        "data=np.loadtxt(\"orbital_details\",dtype=str)\n",
        "print(\"Raw data\")\n",
        "print(data)\n",
        "data=np.transpose(data)\n",
        "print(\"Transposed data\")\n",
        "print(data)\n",
        "\n",
        "print(\"Planets\",data[0])\n",
        "print(\"Gravity\",data[1])\n",
        "print(\"Axis Tilt\",data[2])"
      ],
      "metadata": {
        "colab": {
          "base_uri": "https://localhost:8080/"
        },
        "id": "JGFTH2uTLW2A",
        "outputId": "e04828aa-cb91-45cf-e7ab-4124c7bd89f8"
      },
      "execution_count": 52,
      "outputs": [
        {
          "output_type": "stream",
          "name": "stdout",
          "text": [
            "Raw data\n",
            "[['Mercury' '0.24' '0.03']\n",
            " ['Venus' '0.62' '177.36']\n",
            " ['Earth' '1.0' '23.44']\n",
            " ['Mars' '1.88' '25.19']\n",
            " ['Jupiter' '11.86' '3.13']\n",
            " ['Saturn' '29.46' '26.73']\n",
            " ['Uranus' '84.01' '82.23']\n",
            " ['Neptune' '164.8' '28.32']]\n",
            "Transposed data\n",
            "[['Mercury' 'Venus' 'Earth' 'Mars' 'Jupiter' 'Saturn' 'Uranus' 'Neptune']\n",
            " ['0.24' '0.62' '1.0' '1.88' '11.86' '29.46' '84.01' '164.8']\n",
            " ['0.03' '177.36' '23.44' '25.19' '3.13' '26.73' '82.23' '28.32']]\n",
            "Planets ['Mercury' 'Venus' 'Earth' 'Mars' 'Jupiter' 'Saturn' 'Uranus' 'Neptune']\n",
            "Gravity ['0.24' '0.62' '1.0' '1.88' '11.86' '29.46' '84.01' '164.8']\n",
            "Axis Tilt ['0.03' '177.36' '23.44' '25.19' '3.13' '26.73' '82.23' '28.32']\n"
          ]
        }
      ]
    },
    {
      "cell_type": "markdown",
      "source": [],
      "metadata": {
        "id": "ypjnl5N7RTKM"
      }
    },
    {
      "cell_type": "markdown",
      "source": [
        "### The **end**"
      ],
      "metadata": {
        "id": "BDZfD8qoR4-U"
      }
    }
  ]
}